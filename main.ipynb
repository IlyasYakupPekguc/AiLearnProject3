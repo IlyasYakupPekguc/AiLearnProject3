{
 "cells": [
  {
   "cell_type": "code",
   "execution_count": 5,
   "metadata": {},
   "outputs": [
    {
     "name": "stderr",
     "output_type": "stream",
     "text": [
      "[nltk_data] Downloading package punkt to\n",
      "[nltk_data]     C:\\Users\\ilyas\\AppData\\Roaming\\nltk_data...\n",
      "[nltk_data]   Unzipping tokenizers\\punkt.zip.\n"
     ]
    },
    {
     "data": {
      "text/plain": [
       "True"
      ]
     },
     "execution_count": 5,
     "metadata": {},
     "output_type": "execute_result"
    }
   ],
   "source": [
    "from textblob import TextBlob\n",
    "from newspaper import Article\n",
    "\n",
    "#code bellow is to solve a error\n",
    "import nltk\n",
    "nltk.download('punkt')"
   ]
  },
  {
   "cell_type": "code",
   "execution_count": 8,
   "metadata": {},
   "outputs": [
    {
     "name": "stdout",
     "output_type": "stream",
     "text": [
      "Although mathematics is extensively used for modeling phenomena, the fundamental truths of mathematics are independent from any scientific experimentation.\n",
      "[109][112] This led to split mathematics into pure mathematics and applied mathematics, the latter being often considered as having a lower value among mathematical purists.\n",
      "[114][115] Many of the theories developed for applications were found interesting from the point of view of pure mathematics, and many results of pure mathematics were shown to have applications outside mathematics; in turn, the study of these applications may give new insights on the \"pure theory\".\n",
      "[121][122] The Mathematics Subject Classification has a section for \"general applied mathematics\" but does not mention \"pure mathematics\".\n",
      "[g][161] Rigorous reasoning is not specific to mathematics, but, in mathematics, the standard of rigor is much higher than elsewhere.\n",
      "0.14705627705627705\n"
     ]
    }
   ],
   "source": [
    "#testing the libraies on data/texts from the web\n",
    "url = 'https://en.wikipedia.org/wiki/Mathematics' #neutral text\n",
    "article = Article(url)\n",
    "\n",
    "\n",
    "article.download()\n",
    "article.parse() #to make it readable and get rid of the html\n",
    "article.nlp() #natural language processing\n",
    "\n",
    "#text = article.text #it will give the text without the html\n",
    "text = article.summary #this is a better usage for the main information \n",
    "print(text)\n",
    "\n",
    "blob = TextBlob(text) #this helps with easier text processing\n",
    "sentiment = blob.sentiment.polarity #-1 to 1 (-1 is negative 0 is neutral 1 is positive)\n",
    "print(sentiment)\n",
    "\n",
    "\n"
   ]
  }
 ],
 "metadata": {
  "kernelspec": {
   "display_name": "Python 3",
   "language": "python",
   "name": "python3"
  },
  "language_info": {
   "codemirror_mode": {
    "name": "ipython",
    "version": 3
   },
   "file_extension": ".py",
   "mimetype": "text/x-python",
   "name": "python",
   "nbconvert_exporter": "python",
   "pygments_lexer": "ipython3",
   "version": "3.10.9"
  },
  "orig_nbformat": 4
 },
 "nbformat": 4,
 "nbformat_minor": 2
}
